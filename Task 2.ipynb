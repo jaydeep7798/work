{
 "cells": [
  {
   "cell_type": "code",
   "execution_count": 12,
   "id": "0b2006ca",
   "metadata": {},
   "outputs": [],
   "source": [
    "l = [[3,4,56,8,57],[23,568,54,88],[25,84,296],(66,20,74),{\"jay\":\"jaya\",\"296\":[91,7,368]}]"
   ]
  },
  {
   "cell_type": "code",
   "execution_count": 13,
   "id": "8bdf37e7",
   "metadata": {},
   "outputs": [
    {
     "data": {
      "text/plain": [
       "[{'jay': 'jaya', '296': [91, 7, 368]},\n",
       " (66, 20, 74),\n",
       " [25, 84, 296],\n",
       " [23, 568, 54, 88],\n",
       " [3, 4, 56, 8, 57]]"
      ]
     },
     "execution_count": 13,
     "metadata": {},
     "output_type": "execute_result"
    }
   ],
   "source": [
    "#try to inverse a list\n",
    "l[::-1]"
   ]
  },
  {
   "cell_type": "code",
   "execution_count": 14,
   "id": "ea88231b",
   "metadata": {},
   "outputs": [
    {
     "data": {
      "text/plain": [
       "296"
      ]
     },
     "execution_count": 14,
     "metadata": {},
     "output_type": "execute_result"
    }
   ],
   "source": [
    "#Try to access the 296 out of the list\n",
    "l[2][2]"
   ]
  },
  {
   "cell_type": "code",
   "execution_count": 15,
   "id": "b0276a9d",
   "metadata": {},
   "outputs": [
    {
     "data": {
      "text/plain": [
       "'296'"
      ]
     },
     "execution_count": 15,
     "metadata": {},
     "output_type": "execute_result"
    }
   ],
   "source": [
    "list(l[4].keys())[1]"
   ]
  },
  {
   "cell_type": "code",
   "execution_count": 16,
   "id": "f1192ae3",
   "metadata": {},
   "outputs": [
    {
     "data": {
      "text/plain": [
       "56"
      ]
     },
     "execution_count": 16,
     "metadata": {},
     "output_type": "execute_result"
    }
   ],
   "source": [
    "#Try to access 56 out of the list\n",
    "l[0][2]"
   ]
  },
  {
   "cell_type": "code",
   "execution_count": 17,
   "id": "cac46695",
   "metadata": {},
   "outputs": [
    {
     "data": {
      "text/plain": [
       "[[3, 4, 56, 8, 57], [23, 568, 54, 88], [25, 84, 296]]"
      ]
     },
     "execution_count": 17,
     "metadata": {},
     "output_type": "execute_result"
    }
   ],
   "source": [
    " #Try to extract only a list collecation from a list\n",
    "l[0:3]\n",
    "    "
   ]
  },
  {
   "cell_type": "code",
   "execution_count": 23,
   "id": "fe4fb761",
   "metadata": {},
   "outputs": [],
   "source": [
    "#Try to extract\"jaya\" from a dict\n",
    "D= {\"jay\":\"jaya\",\"123\":\"789\"}"
   ]
  },
  {
   "cell_type": "code",
   "execution_count": 26,
   "id": "74946d82",
   "metadata": {},
   "outputs": [
    {
     "data": {
      "text/plain": [
       "'jaya'"
      ]
     },
     "execution_count": 26,
     "metadata": {},
     "output_type": "execute_result"
    }
   ],
   "source": [
    "D['jay']"
   ]
  },
  {
   "cell_type": "code",
   "execution_count": 28,
   "id": "5525c7fe",
   "metadata": {},
   "outputs": [
    {
     "data": {
      "text/plain": [
       "dict_values(['jaya', '789'])"
      ]
     },
     "execution_count": 28,
     "metadata": {},
     "output_type": "execute_result"
    }
   ],
   "source": [
    "#Try to extract value from the dict\n",
    "D.values()"
   ]
  },
  {
   "cell_type": "code",
   "execution_count": null,
   "id": "a69557b8",
   "metadata": {},
   "outputs": [],
   "source": []
  }
 ],
 "metadata": {
  "kernelspec": {
   "display_name": "Python 3 (ipykernel)",
   "language": "python",
   "name": "python3"
  },
  "language_info": {
   "codemirror_mode": {
    "name": "ipython",
    "version": 3
   },
   "file_extension": ".py",
   "mimetype": "text/x-python",
   "name": "python",
   "nbconvert_exporter": "python",
   "pygments_lexer": "ipython3",
   "version": "3.9.12"
  }
 },
 "nbformat": 4,
 "nbformat_minor": 5
}
